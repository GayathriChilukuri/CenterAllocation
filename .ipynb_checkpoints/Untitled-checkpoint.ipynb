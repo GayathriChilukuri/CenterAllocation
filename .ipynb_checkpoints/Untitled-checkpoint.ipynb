{
 "cells": [
  {
   "cell_type": "code",
   "execution_count": 1,
   "id": "5a29de95",
   "metadata": {},
   "outputs": [],
   "source": [
    "import random\n",
    "import pandas as pd\n",
    "schools = pd.read_csv(\"schools.csv\")\n",
    "students = pd.read_csv(\"students.csv\")"
   ]
  },
  {
   "cell_type": "code",
   "execution_count": 2,
   "id": "a04b2c5d",
   "metadata": {},
   "outputs": [],
   "source": [
    "students.rename(columns = {'Unnamed: 0':'Student Name','Unnamed: 1':'Mobile Number'}, inplace = True)"
   ]
  },
  {
   "cell_type": "code",
   "execution_count": 3,
   "id": "89ee1cac",
   "metadata": {},
   "outputs": [
    {
     "data": {
      "text/html": [
       "<div>\n",
       "<style scoped>\n",
       "    .dataframe tbody tr th:only-of-type {\n",
       "        vertical-align: middle;\n",
       "    }\n",
       "\n",
       "    .dataframe tbody tr th {\n",
       "        vertical-align: top;\n",
       "    }\n",
       "\n",
       "    .dataframe thead th {\n",
       "        text-align: right;\n",
       "    }\n",
       "</style>\n",
       "<table border=\"1\" class=\"dataframe\">\n",
       "  <thead>\n",
       "    <tr style=\"text-align: right;\">\n",
       "      <th></th>\n",
       "      <th>Student Name</th>\n",
       "      <th>Mobile Number</th>\n",
       "    </tr>\n",
       "  </thead>\n",
       "  <tbody>\n",
       "    <tr>\n",
       "      <th>1</th>\n",
       "      <td>Himaja Reddy Maddi</td>\n",
       "      <td>9133569***</td>\n",
       "    </tr>\n",
       "    <tr>\n",
       "      <th>2</th>\n",
       "      <td>Hema Sree</td>\n",
       "      <td>7330782***</td>\n",
       "    </tr>\n",
       "    <tr>\n",
       "      <th>3</th>\n",
       "      <td>Vaditya Divya</td>\n",
       "      <td>8897522***</td>\n",
       "    </tr>\n",
       "    <tr>\n",
       "      <th>4</th>\n",
       "      <td>Cheruku Deepika</td>\n",
       "      <td>8978245***</td>\n",
       "    </tr>\n",
       "    <tr>\n",
       "      <th>5</th>\n",
       "      <td>Bittkunti Sai Deepthi</td>\n",
       "      <td>9515767***</td>\n",
       "    </tr>\n",
       "  </tbody>\n",
       "</table>\n",
       "</div>"
      ],
      "text/plain": [
       "            Student Name Mobile Number\n",
       "1     Himaja Reddy Maddi    9133569***\n",
       "2              Hema Sree    7330782***\n",
       "3          Vaditya Divya    8897522***\n",
       "4        Cheruku Deepika    8978245***\n",
       "5  Bittkunti Sai Deepthi    9515767***"
      ]
     },
     "execution_count": 3,
     "metadata": {},
     "output_type": "execute_result"
    }
   ],
   "source": [
    "students = students.drop(index=[0])\n",
    "students.head()"
   ]
  },
  {
   "cell_type": "code",
   "execution_count": 4,
   "id": "cbe37443",
   "metadata": {},
   "outputs": [
    {
     "data": {
      "text/plain": [
       "296"
      ]
     },
     "execution_count": 4,
     "metadata": {},
     "output_type": "execute_result"
    }
   ],
   "source": [
    "len(schools)"
   ]
  },
  {
   "cell_type": "code",
   "execution_count": 5,
   "id": "32174c92",
   "metadata": {},
   "outputs": [],
   "source": [
    "randpins = [500004,500045,500007,500043,500101,501102,500010,500044,500013,500047,500004,500101,500044,501301,501301,500015,500091,500040,500020,500058,500043,500064,500037,500034,500027,500004,500012,500016,500003,500075,500078,500092,501301,500010,500010,500011,500075,500022,500050,501301,501301,500037,500005,500078,500046,500081,501401,500008,500024,500086,500062,500033,500062,500015,500018,500053,500065,500096,500029,500055,500001,500080,500097,501401,500008,500020,501401,500068,500010,500014,500042,500047,500066,500029,500025,500051,500054,500028,500064,500008,500001,500002,500013,500048,500091,500076,500082,500031,500055,500040,500007,500101,500062,500007,500087,500087,500085,500033,500008,500058,500006,500088,500077,501301,501301,500005,500004,500003,500064,500030,500101,500100,500088,500084,500010,500085,500072,500006,500062,500055,500101,500074,500101,500017,500017,500063,500008,500081,500036,500047,500005,500006,500089,500009,500032,500098,500097,500003,500049,500001,500002,500040,500101,500028,500020,500020,500083,500044,500008,500029,500026,500056,500063,500044,500007,500027,500078,500090,501401,500036,500036,500060,500025,500004,500101,500039,500009,500090,500016,500088,500095,500069,500025,500041,501401,500088,500030,500029,500056,501301,500037,501401,501301,500024,500059,500059,500094,500008,500088,500018,500018,500038,500059,500035,500003,500001,500013,500065,500101,500028,500061,500082,500073,500013,500036,500001,500095,500027,500067,500055,500052,500064,500007,501301,500078,500008,500015,500101,500053,500079,500070,500038,500004,500044,500057,501101,500093,500018,500072,501301,500023,500045,500020,500013]\n",
    "scpins= []\n",
    "for i in range(len(schools)):\n",
    "    scpins.append(random.choice(randpins))\n",
    "schools[\"pincode\"]= scpins"
   ]
  },
  {
   "cell_type": "code",
   "execution_count": 8,
   "id": "709a7927",
   "metadata": {},
   "outputs": [],
   "source": [
    "stpins = []\n",
    "for i in range(len(students)):\n",
    "    stpins.append(random.choice(randpins))\n",
    "students[\"pincode\"]= stpins"
   ]
  },
  {
   "cell_type": "code",
   "execution_count": 9,
   "id": "5133c3ef",
   "metadata": {},
   "outputs": [
    {
     "data": {
      "text/html": [
       "<div>\n",
       "<style scoped>\n",
       "    .dataframe tbody tr th:only-of-type {\n",
       "        vertical-align: middle;\n",
       "    }\n",
       "\n",
       "    .dataframe tbody tr th {\n",
       "        vertical-align: top;\n",
       "    }\n",
       "\n",
       "    .dataframe thead th {\n",
       "        text-align: right;\n",
       "    }\n",
       "</style>\n",
       "<table border=\"1\" class=\"dataframe\">\n",
       "  <thead>\n",
       "    <tr style=\"text-align: right;\">\n",
       "      <th></th>\n",
       "      <th>Student Name</th>\n",
       "      <th>Mobile Number</th>\n",
       "      <th>pincode</th>\n",
       "    </tr>\n",
       "  </thead>\n",
       "  <tbody>\n",
       "    <tr>\n",
       "      <th>1</th>\n",
       "      <td>Himaja Reddy Maddi</td>\n",
       "      <td>9133569***</td>\n",
       "      <td>500037</td>\n",
       "    </tr>\n",
       "    <tr>\n",
       "      <th>2</th>\n",
       "      <td>Hema Sree</td>\n",
       "      <td>7330782***</td>\n",
       "      <td>500008</td>\n",
       "    </tr>\n",
       "    <tr>\n",
       "      <th>3</th>\n",
       "      <td>Vaditya Divya</td>\n",
       "      <td>8897522***</td>\n",
       "      <td>500043</td>\n",
       "    </tr>\n",
       "    <tr>\n",
       "      <th>4</th>\n",
       "      <td>Cheruku Deepika</td>\n",
       "      <td>8978245***</td>\n",
       "      <td>500018</td>\n",
       "    </tr>\n",
       "    <tr>\n",
       "      <th>5</th>\n",
       "      <td>Bittkunti Sai Deepthi</td>\n",
       "      <td>9515767***</td>\n",
       "      <td>500037</td>\n",
       "    </tr>\n",
       "  </tbody>\n",
       "</table>\n",
       "</div>"
      ],
      "text/plain": [
       "            Student Name Mobile Number  pincode\n",
       "1     Himaja Reddy Maddi    9133569***   500037\n",
       "2              Hema Sree    7330782***   500008\n",
       "3          Vaditya Divya    8897522***   500043\n",
       "4        Cheruku Deepika    8978245***   500018\n",
       "5  Bittkunti Sai Deepthi    9515767***   500037"
      ]
     },
     "execution_count": 9,
     "metadata": {},
     "output_type": "execute_result"
    }
   ],
   "source": [
    "students.head()"
   ]
  },
  {
   "cell_type": "code",
   "execution_count": 6,
   "id": "4379e6e5",
   "metadata": {},
   "outputs": [
    {
     "data": {
      "text/html": [
       "<div>\n",
       "<style scoped>\n",
       "    .dataframe tbody tr th:only-of-type {\n",
       "        vertical-align: middle;\n",
       "    }\n",
       "\n",
       "    .dataframe tbody tr th {\n",
       "        vertical-align: top;\n",
       "    }\n",
       "\n",
       "    .dataframe thead th {\n",
       "        text-align: right;\n",
       "    }\n",
       "</style>\n",
       "<table border=\"1\" class=\"dataframe\">\n",
       "  <thead>\n",
       "    <tr style=\"text-align: right;\">\n",
       "      <th></th>\n",
       "      <th>School Name</th>\n",
       "      <th>Type</th>\n",
       "      <th>City</th>\n",
       "      <th>State</th>\n",
       "      <th>pincode</th>\n",
       "    </tr>\n",
       "  </thead>\n",
       "  <tbody>\n",
       "    <tr>\n",
       "      <th>0</th>\n",
       "      <td>Amara Jyothi Public School</td>\n",
       "      <td>PUBLIC</td>\n",
       "      <td>HYDERABAD</td>\n",
       "      <td>Telangana</td>\n",
       "      <td>500022</td>\n",
       "    </tr>\n",
       "    <tr>\n",
       "      <th>1</th>\n",
       "      <td>Amrita Vidyalayam</td>\n",
       "      <td>PUBLIC</td>\n",
       "      <td>HYDERABAD</td>\n",
       "      <td>Telangana</td>\n",
       "      <td>500047</td>\n",
       "    </tr>\n",
       "    <tr>\n",
       "      <th>2</th>\n",
       "      <td>Anand Bagh Public School</td>\n",
       "      <td>PUBLIC</td>\n",
       "      <td>HYDERABAD</td>\n",
       "      <td>Telangana</td>\n",
       "      <td>500083</td>\n",
       "    </tr>\n",
       "    <tr>\n",
       "      <th>3</th>\n",
       "      <td>Annai Play Nursery School</td>\n",
       "      <td>PUBLIC</td>\n",
       "      <td>HYDERABAD</td>\n",
       "      <td>Telangana</td>\n",
       "      <td>500036</td>\n",
       "    </tr>\n",
       "    <tr>\n",
       "      <th>4</th>\n",
       "      <td>Apricot High School</td>\n",
       "      <td>PUBLIC</td>\n",
       "      <td>HYDERABAD</td>\n",
       "      <td>Telangana</td>\n",
       "      <td>501301</td>\n",
       "    </tr>\n",
       "  </tbody>\n",
       "</table>\n",
       "</div>"
      ],
      "text/plain": [
       "                  School Name    Type       City      State  pincode\n",
       "0  Amara Jyothi Public School  PUBLIC  HYDERABAD  Telangana   500022\n",
       "1           Amrita Vidyalayam  PUBLIC  HYDERABAD  Telangana   500047\n",
       "2    Anand Bagh Public School  PUBLIC  HYDERABAD  Telangana   500083\n",
       "3   Annai Play Nursery School  PUBLIC  HYDERABAD  Telangana   500036\n",
       "4         Apricot High School  PUBLIC  HYDERABAD  Telangana   501301"
      ]
     },
     "execution_count": 6,
     "metadata": {},
     "output_type": "execute_result"
    }
   ],
   "source": [
    "schools.head()"
   ]
  },
  {
   "cell_type": "code",
   "execution_count": 2,
   "id": "f1ddbe36",
   "metadata": {},
   "outputs": [
    {
     "name": "stdout",
     "output_type": "stream",
     "text": [
      "<html>\r\n",
      "<head><title>504 Gateway Time-out</title></head>\r\n",
      "<body>\r\n",
      "<center><h1>504 Gateway Time-out</h1></center>\r\n",
      "</body>\r\n",
      "</html>\r\n",
      "\n"
     ]
    }
   ],
   "source": [
    "import requests\n",
    "p1= 500001\n",
    "p2= 500018\n",
    "url = \"https://india-pincode-with-latitude-and-longitude.p.rapidapi.com/api/v1/pincode/distance\"\n",
    "payload = \"pincode1=\"+str(p1)+\"&pincode2=\"+str(p2)+\"&unit=km\"\n",
    "headers = {\n",
    "\t\"content-type\": \"application/x-www-form-urlencoded\",\n",
    "\t\"X-RapidAPI-Key\": \"8532f1bf4bmsh1f9f8482dd86e18p1483c1jsn58bc6f9e15fe\",\n",
    "\t\"X-RapidAPI-Host\": \"india-pincode-with-latitude-and-longitude.p.rapidapi.com\"\n",
    "}\n",
    "\n",
    "response = requests.request(\"POST\", url, data=payload, headers=headers)\n",
    "\n",
    "print(response.text)"
   ]
  },
  {
   "cell_type": "code",
   "execution_count": 1,
   "id": "4cebb18f",
   "metadata": {},
   "outputs": [
    {
     "name": "stdout",
     "output_type": "stream",
     "text": [
      "helloworld\n"
     ]
    }
   ],
   "source": [
    "print('helloworld')"
   ]
  },
  {
   "cell_type": "code",
   "execution_count": null,
   "id": "47a86096",
   "metadata": {},
   "outputs": [],
   "source": []
  }
 ],
 "metadata": {
  "kernelspec": {
   "display_name": "Python 3 (ipykernel)",
   "language": "python",
   "name": "python3"
  },
  "language_info": {
   "codemirror_mode": {
    "name": "ipython",
    "version": 3
   },
   "file_extension": ".py",
   "mimetype": "text/x-python",
   "name": "python",
   "nbconvert_exporter": "python",
   "pygments_lexer": "ipython3",
   "version": "3.9.12"
  }
 },
 "nbformat": 4,
 "nbformat_minor": 5
}
